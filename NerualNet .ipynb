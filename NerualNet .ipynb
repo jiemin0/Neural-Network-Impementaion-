{
 "cells": [
  {
   "cell_type": "code",
   "execution_count": 4,
   "metadata": {},
   "outputs": [],
   "source": [
    "import torch\n",
    "import torchvision\n",
    "from torchvision import transforms, datasets\n",
    "import matplotlib.pyplot as plt\n",
    "import torch.nn as nn\n",
    "import torch.nn.functional as F\n",
    "import torch.optim as optim\n"
   ]
  },
  {
   "cell_type": "code",
   "execution_count": 5,
   "metadata": {},
   "outputs": [
    {
     "name": "stderr",
     "output_type": "stream",
     "text": [
      "  0%|          | 0/9912422 [00:00<?, ?it/s]"
     ]
    },
    {
     "name": "stdout",
     "output_type": "stream",
     "text": [
      "Downloading http://yann.lecun.com/exdb/mnist/train-images-idx3-ubyte.gz to MNIST/raw/train-images-idx3-ubyte.gz\n"
     ]
    },
    {
     "name": "stderr",
     "output_type": "stream",
     "text": [
      "9920512it [00:04, 2422428.11it/s]                             \n"
     ]
    },
    {
     "name": "stdout",
     "output_type": "stream",
     "text": [
      "Extracting MNIST/raw/train-images-idx3-ubyte.gz to MNIST/raw\n"
     ]
    },
    {
     "name": "stderr",
     "output_type": "stream",
     "text": [
      "32768it [00:00, 270755.92it/s]                           \n",
      "0it [00:00, ?it/s]"
     ]
    },
    {
     "name": "stdout",
     "output_type": "stream",
     "text": [
      "Downloading http://yann.lecun.com/exdb/mnist/train-labels-idx1-ubyte.gz to MNIST/raw/train-labels-idx1-ubyte.gz\n",
      "Extracting MNIST/raw/train-labels-idx1-ubyte.gz to MNIST/raw\n",
      "Downloading http://yann.lecun.com/exdb/mnist/t10k-images-idx3-ubyte.gz to MNIST/raw/t10k-images-idx3-ubyte.gz\n"
     ]
    },
    {
     "name": "stderr",
     "output_type": "stream",
     "text": [
      "1654784it [00:00, 1955230.41it/s]                            \n",
      "8192it [00:00, 109059.49it/s]\n"
     ]
    },
    {
     "name": "stdout",
     "output_type": "stream",
     "text": [
      "Extracting MNIST/raw/t10k-images-idx3-ubyte.gz to MNIST/raw\n",
      "Downloading http://yann.lecun.com/exdb/mnist/t10k-labels-idx1-ubyte.gz to MNIST/raw/t10k-labels-idx1-ubyte.gz\n",
      "Extracting MNIST/raw/t10k-labels-idx1-ubyte.gz to MNIST/raw\n",
      "Processing...\n",
      "Done!\n"
     ]
    }
   ],
   "source": [
    "#download dataaset\n",
    "train=datasets.MNIST('',train=True,download=True,transform=transforms.Compose([transforms.ToTensor()]))\n",
    "test=datasets.MNIST('',train=False,download=True,transform=transforms.Compose([transforms.ToTensor()]))"
   ]
  },
  {
   "cell_type": "code",
   "execution_count": 6,
   "metadata": {},
   "outputs": [],
   "source": [
    "#prepare dataset\n",
    "trainset=torch.utils.data.DataLoader(train,batch_size=32,shuffle=True)\n",
    "testset=torch.utils.data.DataLoader(test,batch_size=32,shuffle=True)"
   ]
  },
  {
   "cell_type": "code",
   "execution_count": 62,
   "metadata": {},
   "outputs": [],
   "source": [
    "#build simple network.\n",
    "class Net(nn.Module):\n",
    "    def __init__(self):\n",
    "        super().__init__()\n",
    "        # for layer whose weight changes\n",
    "        self.fc1=nn.Linear(28*28,128,bias=True)\n",
    "        self.fc2=nn.Linear(128,10)\n",
    "    # forward function    \n",
    "    def forward(self,x):\n",
    "        x=F.relu(self.fc1(x))\n",
    "        x=self.fc2(x)\n",
    "        return  F.log_softmax(x,dim=1)\n",
    "        "
   ]
  },
  {
   "cell_type": "code",
   "execution_count": 63,
   "metadata": {},
   "outputs": [
    {
     "name": "stdout",
     "output_type": "stream",
     "text": [
      "0.418\n",
      "tensor(3993.3123, grad_fn=<AddBackward0>)\n",
      "0.734\n",
      "tensor(3018.3457, grad_fn=<AddBackward0>)\n",
      "0.798\n",
      "tensor(2050.4531, grad_fn=<AddBackward0>)\n",
      "0.832\n",
      "tensor(1513.2010, grad_fn=<AddBackward0>)\n",
      "0.849\n",
      "tensor(1238.9998, grad_fn=<AddBackward0>)\n",
      "0.862\n",
      "tensor(1080.0630, grad_fn=<AddBackward0>)\n",
      "0.87\n",
      "tensor(976.9901, grad_fn=<AddBackward0>)\n",
      "0.877\n",
      "tensor(905.0201, grad_fn=<AddBackward0>)\n",
      "0.882\n",
      "tensor(851.8831, grad_fn=<AddBackward0>)\n",
      "0.885\n",
      "tensor(811.2509, grad_fn=<AddBackward0>)\n"
     ]
    }
   ],
   "source": [
    "#initialize network\n",
    "net=Net()\n",
    "# set loss & optimizer\n",
    "Epochs1=10\n",
    "loss_function=nn.CrossEntropyLoss()\n",
    "optimizer1=optim.SGD(net.parameters(),lr=.001)\n",
    "# build dic to record loss and accuracy\n",
    "losses1=[]\n",
    "accuracy1=[]\n",
    "# train data\n",
    "for epoch in range(Epochs1):\n",
    "    correct=0\n",
    "    total=0\n",
    "    loss_sum=0\n",
    "    for data in trainset:\n",
    "        X,y=data\n",
    "        net.zero_grad()\n",
    "        output=net(X.view(-1,28*28))\n",
    "        Loss1=loss_function(output,y)\n",
    "        Loss1.backward()\n",
    "        optimizer1.step()\n",
    "        loss_sum+=Loss1\n",
    "        #calculate accuracy\n",
    "        for idx,i in enumerate(output):\n",
    "            if torch.argmax(i)==y[idx]:\n",
    "                correct+=1\n",
    "            total+=1\n",
    "    accu=round(correct/total,3)\n",
    "    print(accu)\n",
    "    print(loss_sum)\n",
    "    losses1.append(loss_sum)\n",
    "    accuracy1.append(accu)"
   ]
  },
  {
   "cell_type": "code",
   "execution_count": 108,
   "metadata": {},
   "outputs": [],
   "source": [
    "# define how to plot loss/accuracy \n",
    "def plot_obj(loss,accu,name):\n",
    "    fig1, axes=plt.subplots(2,1,figsize=(15,9))\n",
    "    axes[0].plot(loss,'g')\n",
    "    axes[1].plot(accu,'r')\n",
    "    plt.show()\n",
    "    fig1.savefig(str(name)+'.jpg')\n",
    "    "
   ]
  },
  {
   "cell_type": "code",
   "execution_count": 103,
   "metadata": {},
   "outputs": [
    {
     "data": {
      "image/png": "[encoded data removed]",
      "text/plain": [
       "<Figure size 1080x648 with 2 Axes>"
      ]
     },
     "metadata": {
      "needs_background": "light"
     },
     "output_type": "display_data"
    }
   ],
   "source": [
    "plot_obj(losses1,accuracy1,'mnist_fc')\n",
    "\n",
    "# save model\n",
    "torch.save(net.state_dict(), '5525_HW3/mnist-fc')"
   ]
  },
  {
   "cell_type": "code",
   "execution_count": 74,
   "metadata": {},
   "outputs": [
    {
     "name": "stdout",
     "output_type": "stream",
     "text": [
      "0.892\n"
     ]
    }
   ],
   "source": [
    "#load model\n",
    "net1 = Net()\n",
    "net1.load_state_dict(torch.load('5525_HW3/mnist-fc'))\n",
    "net1.eval()\n",
    "# See performace\n",
    "correct=0\n",
    "total=0\n",
    "\n",
    "with torch.no_grad():\n",
    "    for data in testset:\n",
    "        X,y=data\n",
    "        output=net1(X.view(-1,28*28))\n",
    "        for idx,i in enumerate(output):\n",
    "            #print(idx,i)\n",
    "            #print(torch.argmax(i),y[idx])\n",
    "            if torch.argmax(i)== y[idx]:\n",
    "                correct+=1\n",
    "            total+=1\n",
    "    accu=round(correct/total,3)\n",
    "print(accu)\n",
    "         "
   ]
  },
  {
   "cell_type": "code",
   "execution_count": 75,
   "metadata": {},
   "outputs": [],
   "source": [
    "# define covnet class\n",
    "class ConvNet(nn.Module):\n",
    "    def __init__(self):\n",
    "        super().__init__()\n",
    "        self.layer1=nn.Sequential(\n",
    "            nn.Conv2d(1,20,kernel_size=3,stride=1),\n",
    "            nn.MaxPool2d(kernel_size=2,stride=2),\n",
    "            nn.ReLU())\n",
    "        self.fc1=nn.Sequential(nn.Linear(13*13*20,128,bias=True),\n",
    "                               nn.ReLU())\n",
    "                        \n",
    "        self.fc2=nn.Linear(128,10)\n",
    "        \n",
    "    def forward(self,x):\n",
    "        out=self.layer1(x)\n",
    "        #flatten\n",
    "        out=out.view(-1,13*13*20)\n",
    "        out=self.fc1(out)\n",
    "        out=self.fc2(out)\n",
    "        out=F.softmax(out,dim=1)\n",
    "        return out\n",
    "                \n",
    "            \n",
    "\n",
    "    "
   ]
  },
  {
   "cell_type": "code",
   "execution_count": 78,
   "metadata": {},
   "outputs": [
    {
     "name": "stdout",
     "output_type": "stream",
     "text": [
      "[tensor(4312.3618, grad_fn=<AddBackward0>)]\n",
      "0.125\n",
      "[tensor(4312.3618, grad_fn=<AddBackward0>), tensor(4302.4419, grad_fn=<AddBackward0>)]\n",
      "0.258\n",
      "[tensor(4312.3618, grad_fn=<AddBackward0>), tensor(4302.4419, grad_fn=<AddBackward0>), tensor(4288.8984, grad_fn=<AddBackward0>)]\n",
      "0.443\n",
      "[tensor(4312.3618, grad_fn=<AddBackward0>), tensor(4302.4419, grad_fn=<AddBackward0>), tensor(4288.8984, grad_fn=<AddBackward0>), tensor(4266.5039, grad_fn=<AddBackward0>)]\n",
      "0.511\n",
      "[tensor(4312.3618, grad_fn=<AddBackward0>), tensor(4302.4419, grad_fn=<AddBackward0>), tensor(4288.8984, grad_fn=<AddBackward0>), tensor(4266.5039, grad_fn=<AddBackward0>), tensor(4213.2578, grad_fn=<AddBackward0>)]\n",
      "0.389\n",
      "[tensor(4312.3618, grad_fn=<AddBackward0>), tensor(4302.4419, grad_fn=<AddBackward0>), tensor(4288.8984, grad_fn=<AddBackward0>), tensor(4266.5039, grad_fn=<AddBackward0>), tensor(4213.2578, grad_fn=<AddBackward0>), tensor(4097.8071, grad_fn=<AddBackward0>)]\n",
      "0.351\n",
      "[tensor(4312.3618, grad_fn=<AddBackward0>), tensor(4302.4419, grad_fn=<AddBackward0>), tensor(4288.8984, grad_fn=<AddBackward0>), tensor(4266.5039, grad_fn=<AddBackward0>), tensor(4213.2578, grad_fn=<AddBackward0>), tensor(4097.8071, grad_fn=<AddBackward0>), tensor(3924.4124, grad_fn=<AddBackward0>)]\n",
      "0.476\n",
      "[tensor(4312.3618, grad_fn=<AddBackward0>), tensor(4302.4419, grad_fn=<AddBackward0>), tensor(4288.8984, grad_fn=<AddBackward0>), tensor(4266.5039, grad_fn=<AddBackward0>), tensor(4213.2578, grad_fn=<AddBackward0>), tensor(4097.8071, grad_fn=<AddBackward0>), tensor(3924.4124, grad_fn=<AddBackward0>), tensor(3692.2664, grad_fn=<AddBackward0>)]\n",
      "0.625\n",
      "[tensor(4312.3618, grad_fn=<AddBackward0>), tensor(4302.4419, grad_fn=<AddBackward0>), tensor(4288.8984, grad_fn=<AddBackward0>), tensor(4266.5039, grad_fn=<AddBackward0>), tensor(4213.2578, grad_fn=<AddBackward0>), tensor(4097.8071, grad_fn=<AddBackward0>), tensor(3924.4124, grad_fn=<AddBackward0>), tensor(3692.2664, grad_fn=<AddBackward0>), tensor(3500.7861, grad_fn=<AddBackward0>)]\n",
      "0.703\n",
      "[tensor(4312.3618, grad_fn=<AddBackward0>), tensor(4302.4419, grad_fn=<AddBackward0>), tensor(4288.8984, grad_fn=<AddBackward0>), tensor(4266.5039, grad_fn=<AddBackward0>), tensor(4213.2578, grad_fn=<AddBackward0>), tensor(4097.8071, grad_fn=<AddBackward0>), tensor(3924.4124, grad_fn=<AddBackward0>), tensor(3692.2664, grad_fn=<AddBackward0>), tensor(3500.7861, grad_fn=<AddBackward0>), tensor(3386.3760, grad_fn=<AddBackward0>)]\n",
      "0.732\n"
     ]
    }
   ],
   "source": [
    "#initialize model\n",
    "convnet=ConvNet()\n",
    "#Loss and optimizer for convnet\n",
    "Loss=nn.CrossEntropyLoss()\n",
    "optimizer=optim.SGD(convnet.parameters(),lr=0.001)\n",
    "\n",
    "#train the model\n",
    "Epochs_c=10\n",
    "loss_sum=[]\n",
    "accuracy_c=[]\n",
    "for epoch in range(Epochs_c):\n",
    "    correct=0\n",
    "    total=0\n",
    "    loss_s=0\n",
    "    for data in trainset:  \n",
    "        X,y=data\n",
    "        #forward pass\n",
    "        output=convnet(X)\n",
    "        loss_c=Loss(output,y)\n",
    "        #backward optimize\n",
    "        optimizer.zero_grad()\n",
    "        loss_c.backward()\n",
    "        optimizer.step()\n",
    "        # caculate accuracy\n",
    "        loss_s+=loss_c\n",
    "        for idx,i in enumerate(output):\n",
    "            if torch.argmax(i)==y[idx]:\n",
    "                correct+=1\n",
    "            total +=1\n",
    "    accu_c=round(correct/total,3)\n",
    "    accuracy_c.append(accu_c)\n",
    "    loss_sum.append(loss_s)\n",
    "    print(loss_sum)\n",
    "    print(accu_c)\n",
    "   \n"
   ]
  },
  {
   "cell_type": "code",
   "execution_count": 109,
   "metadata": {},
   "outputs": [
    {
     "data": {
      "image/png": "[encoded data removed]",
      "text/plain": [
       "<Figure size 1080x648 with 2 Axes>"
      ]
     },
     "metadata": {
      "needs_background": "light"
     },
     "output_type": "display_data"
    }
   ],
   "source": [
    "# save model\n",
    "torch.save(convnet.state_dict(), '5525_HW3/mnist-cnn')\n",
    "#plot loss and accuracy\n",
    "plot_obj(loss_sum,accuracy_c,'mnist_cnn')\n"
   ]
  },
  {
   "cell_type": "code",
   "execution_count": 87,
   "metadata": {},
   "outputs": [
    {
     "name": "stdout",
     "output_type": "stream",
     "text": [
      "0.797\n"
     ]
    }
   ],
   "source": [
    "#load model\n",
    "convnet1 =ConvNet()\n",
    "convnet1.load_state_dict(torch.load('/Users/yangxiaomin/Documents/courses/csci 5525/5525_HW3/mnist-cnn'))\n",
    "\n",
    "#test performance\n",
    "\n",
    "correct=0\n",
    "total=0\n",
    "\n",
    "with torch.no_grad():\n",
    "    for data in testset:\n",
    "        X,y=data\n",
    "        output=convnet1(X.view(-1,1,28,28))\n",
    "        for idx, i in enumerate(output):\n",
    "            if torch.argmax(i)== y[idx]:\n",
    "                correct+=1\n",
    "            total+=1\n",
    "    accu=round(correct/total,3)\n",
    "print(accu)"
   ]
  },
  {
   "cell_type": "code",
   "execution_count": 81,
   "metadata": {},
   "outputs": [],
   "source": [
    "\n",
    "trainset2=torch.utils.data.DataLoader(train,batch_size=64,shuffle=True)\n",
    "testset=torch.utils.data.DataLoader(test,batch_size=32,shuffle=True)"
   ]
  },
  {
   "cell_type": "code",
   "execution_count": 53,
   "metadata": {},
   "outputs": [
    {
     "name": "stdout",
     "output_type": "stream",
     "text": [
      "tensor(2158.4580, grad_fn=<AddBackward0>)\n",
      "tensor(2155.7627, grad_fn=<AddBackward0>)\n",
      "tensor(2.6953, grad_fn=<AbsBackward>)\n",
      "39.52334014100052\n"
     ]
    }
   ],
   "source": [
    "import timeit\n",
    "t=[32,64,96,128]\n",
    "start = timeit.default_timer()\n",
    "loss_d=100\n",
    "loss0=0\n",
    "convnet2=ConvNet()\n",
    "optimizer=optim.SGD(convnet2.parameters(),lr=0.001)\n",
    "while loss_d>5:\n",
    "    loss_e=[]\n",
    "    for data in trainset2:\n",
    "        X,y=data\n",
    "        #forward pass\n",
    "        output=convnet2(X)\n",
    "        loss_c=Loss(output,y)\n",
    "        #backward optimize\n",
    "        optimizer.zero_grad()\n",
    "        loss_c.backward()\n",
    "        optimizer.step()\n",
    "        loss_e.append(loss_c)\n",
    "    loss1=sum(loss_e)\n",
    "    loss_d=abs(loss1-loss0)\n",
    "    loss0=loss1\n",
    "    print(loss1)\n",
    "end=timeit.default_timer()\n",
    "print(loss_d)\n",
    "print(end-start)\n"
   ]
  },
  {
   "cell_type": "code",
   "execution_count": 105,
   "metadata": {},
   "outputs": [
    {
     "ename": "KeyboardInterrupt",
     "evalue": "",
     "output_type": "error",
     "traceback": [
      "\u001b[0;31m---------------------------------------------------------------------------\u001b[0m",
      "\u001b[0;31mKeyboardInterrupt\u001b[0m                         Traceback (most recent call last)",
      "\u001b[0;32m<ipython-input-105-905b2d21f62f>\u001b[0m in \u001b[0;36m<module>\u001b[0;34m\u001b[0m\n\u001b[1;32m     19\u001b[0m         \u001b[0mX\u001b[0m\u001b[0;34m,\u001b[0m\u001b[0my\u001b[0m\u001b[0;34m=\u001b[0m\u001b[0mdata\u001b[0m\u001b[0;34m\u001b[0m\u001b[0;34m\u001b[0m\u001b[0m\n\u001b[1;32m     20\u001b[0m         \u001b[0;31m#forward pass\u001b[0m\u001b[0;34m\u001b[0m\u001b[0;34m\u001b[0m\u001b[0;34m\u001b[0m\u001b[0m\n\u001b[0;32m---> 21\u001b[0;31m         \u001b[0moutput\u001b[0m\u001b[0;34m=\u001b[0m\u001b[0mconvnet\u001b[0m\u001b[0;34m(\u001b[0m\u001b[0mX\u001b[0m\u001b[0;34m)\u001b[0m\u001b[0;34m\u001b[0m\u001b[0;34m\u001b[0m\u001b[0m\n\u001b[0m\u001b[1;32m     22\u001b[0m         \u001b[0mloss_c\u001b[0m\u001b[0;34m=\u001b[0m\u001b[0mLoss\u001b[0m\u001b[0;34m(\u001b[0m\u001b[0moutput\u001b[0m\u001b[0;34m,\u001b[0m\u001b[0my\u001b[0m\u001b[0;34m)\u001b[0m\u001b[0;34m\u001b[0m\u001b[0;34m\u001b[0m\u001b[0m\n\u001b[1;32m     23\u001b[0m         \u001b[0;31m#backward optimize\u001b[0m\u001b[0;34m\u001b[0m\u001b[0;34m\u001b[0m\u001b[0;34m\u001b[0m\u001b[0m\n",
      "\u001b[0;32m/anaconda3/lib/python3.7/site-packages/torch/nn/modules/module.py\u001b[0m in \u001b[0;36m__call__\u001b[0;34m(self, *input, **kwargs)\u001b[0m\n\u001b[1;32m    539\u001b[0m             \u001b[0mresult\u001b[0m \u001b[0;34m=\u001b[0m \u001b[0mself\u001b[0m\u001b[0;34m.\u001b[0m\u001b[0m_slow_forward\u001b[0m\u001b[0;34m(\u001b[0m\u001b[0;34m*\u001b[0m\u001b[0minput\u001b[0m\u001b[0;34m,\u001b[0m \u001b[0;34m**\u001b[0m\u001b[0mkwargs\u001b[0m\u001b[0;34m)\u001b[0m\u001b[0;34m\u001b[0m\u001b[0;34m\u001b[0m\u001b[0m\n\u001b[1;32m    540\u001b[0m         \u001b[0;32melse\u001b[0m\u001b[0;34m:\u001b[0m\u001b[0;34m\u001b[0m\u001b[0;34m\u001b[0m\u001b[0m\n\u001b[0;32m--> 541\u001b[0;31m             \u001b[0mresult\u001b[0m \u001b[0;34m=\u001b[0m \u001b[0mself\u001b[0m\u001b[0;34m.\u001b[0m\u001b[0mforward\u001b[0m\u001b[0;34m(\u001b[0m\u001b[0;34m*\u001b[0m\u001b[0minput\u001b[0m\u001b[0;34m,\u001b[0m \u001b[0;34m**\u001b[0m\u001b[0mkwargs\u001b[0m\u001b[0;34m)\u001b[0m\u001b[0;34m\u001b[0m\u001b[0;34m\u001b[0m\u001b[0m\n\u001b[0m\u001b[1;32m    542\u001b[0m         \u001b[0;32mfor\u001b[0m \u001b[0mhook\u001b[0m \u001b[0;32min\u001b[0m \u001b[0mself\u001b[0m\u001b[0;34m.\u001b[0m\u001b[0m_forward_hooks\u001b[0m\u001b[0;34m.\u001b[0m\u001b[0mvalues\u001b[0m\u001b[0;34m(\u001b[0m\u001b[0;34m)\u001b[0m\u001b[0;34m:\u001b[0m\u001b[0;34m\u001b[0m\u001b[0;34m\u001b[0m\u001b[0m\n\u001b[1;32m    543\u001b[0m             \u001b[0mhook_result\u001b[0m \u001b[0;34m=\u001b[0m \u001b[0mhook\u001b[0m\u001b[0;34m(\u001b[0m\u001b[0mself\u001b[0m\u001b[0;34m,\u001b[0m \u001b[0minput\u001b[0m\u001b[0;34m,\u001b[0m \u001b[0mresult\u001b[0m\u001b[0;34m)\u001b[0m\u001b[0;34m\u001b[0m\u001b[0;34m\u001b[0m\u001b[0m\n",
      "\u001b[0;32m<ipython-input-75-773346dcf452>\u001b[0m in \u001b[0;36mforward\u001b[0;34m(self, x)\u001b[0m\n\u001b[1;32m     16\u001b[0m         \u001b[0;31m#flatten\u001b[0m\u001b[0;34m\u001b[0m\u001b[0;34m\u001b[0m\u001b[0;34m\u001b[0m\u001b[0m\n\u001b[1;32m     17\u001b[0m         \u001b[0mout\u001b[0m\u001b[0;34m=\u001b[0m\u001b[0mout\u001b[0m\u001b[0;34m.\u001b[0m\u001b[0mview\u001b[0m\u001b[0;34m(\u001b[0m\u001b[0;34m-\u001b[0m\u001b[0;36m1\u001b[0m\u001b[0;34m,\u001b[0m\u001b[0;36m13\u001b[0m\u001b[0;34m*\u001b[0m\u001b[0;36m13\u001b[0m\u001b[0;34m*\u001b[0m\u001b[0;36m20\u001b[0m\u001b[0;34m)\u001b[0m\u001b[0;34m\u001b[0m\u001b[0;34m\u001b[0m\u001b[0m\n\u001b[0;32m---> 18\u001b[0;31m         \u001b[0mout\u001b[0m\u001b[0;34m=\u001b[0m\u001b[0mself\u001b[0m\u001b[0;34m.\u001b[0m\u001b[0mfc1\u001b[0m\u001b[0;34m(\u001b[0m\u001b[0mout\u001b[0m\u001b[0;34m)\u001b[0m\u001b[0;34m\u001b[0m\u001b[0;34m\u001b[0m\u001b[0m\n\u001b[0m\u001b[1;32m     19\u001b[0m         \u001b[0mout\u001b[0m\u001b[0;34m=\u001b[0m\u001b[0mself\u001b[0m\u001b[0;34m.\u001b[0m\u001b[0mfc2\u001b[0m\u001b[0;34m(\u001b[0m\u001b[0mout\u001b[0m\u001b[0;34m)\u001b[0m\u001b[0;34m\u001b[0m\u001b[0;34m\u001b[0m\u001b[0m\n\u001b[1;32m     20\u001b[0m         \u001b[0mout\u001b[0m\u001b[0;34m=\u001b[0m\u001b[0mF\u001b[0m\u001b[0;34m.\u001b[0m\u001b[0msoftmax\u001b[0m\u001b[0;34m(\u001b[0m\u001b[0mout\u001b[0m\u001b[0;34m,\u001b[0m\u001b[0mdim\u001b[0m\u001b[0;34m=\u001b[0m\u001b[0;36m1\u001b[0m\u001b[0;34m)\u001b[0m\u001b[0;34m\u001b[0m\u001b[0;34m\u001b[0m\u001b[0m\n",
      "\u001b[0;32m/anaconda3/lib/python3.7/site-packages/torch/nn/modules/module.py\u001b[0m in \u001b[0;36m__call__\u001b[0;34m(self, *input, **kwargs)\u001b[0m\n\u001b[1;32m    539\u001b[0m             \u001b[0mresult\u001b[0m \u001b[0;34m=\u001b[0m \u001b[0mself\u001b[0m\u001b[0;34m.\u001b[0m\u001b[0m_slow_forward\u001b[0m\u001b[0;34m(\u001b[0m\u001b[0;34m*\u001b[0m\u001b[0minput\u001b[0m\u001b[0;34m,\u001b[0m \u001b[0;34m**\u001b[0m\u001b[0mkwargs\u001b[0m\u001b[0;34m)\u001b[0m\u001b[0;34m\u001b[0m\u001b[0;34m\u001b[0m\u001b[0m\n\u001b[1;32m    540\u001b[0m         \u001b[0;32melse\u001b[0m\u001b[0;34m:\u001b[0m\u001b[0;34m\u001b[0m\u001b[0;34m\u001b[0m\u001b[0m\n\u001b[0;32m--> 541\u001b[0;31m             \u001b[0mresult\u001b[0m \u001b[0;34m=\u001b[0m \u001b[0mself\u001b[0m\u001b[0;34m.\u001b[0m\u001b[0mforward\u001b[0m\u001b[0;34m(\u001b[0m\u001b[0;34m*\u001b[0m\u001b[0minput\u001b[0m\u001b[0;34m,\u001b[0m \u001b[0;34m**\u001b[0m\u001b[0mkwargs\u001b[0m\u001b[0;34m)\u001b[0m\u001b[0;34m\u001b[0m\u001b[0;34m\u001b[0m\u001b[0m\n\u001b[0m\u001b[1;32m    542\u001b[0m         \u001b[0;32mfor\u001b[0m \u001b[0mhook\u001b[0m \u001b[0;32min\u001b[0m \u001b[0mself\u001b[0m\u001b[0;34m.\u001b[0m\u001b[0m_forward_hooks\u001b[0m\u001b[0;34m.\u001b[0m\u001b[0mvalues\u001b[0m\u001b[0;34m(\u001b[0m\u001b[0;34m)\u001b[0m\u001b[0;34m:\u001b[0m\u001b[0;34m\u001b[0m\u001b[0;34m\u001b[0m\u001b[0m\n\u001b[1;32m    543\u001b[0m             \u001b[0mhook_result\u001b[0m \u001b[0;34m=\u001b[0m \u001b[0mhook\u001b[0m\u001b[0;34m(\u001b[0m\u001b[0mself\u001b[0m\u001b[0;34m,\u001b[0m \u001b[0minput\u001b[0m\u001b[0;34m,\u001b[0m \u001b[0mresult\u001b[0m\u001b[0;34m)\u001b[0m\u001b[0;34m\u001b[0m\u001b[0;34m\u001b[0m\u001b[0m\n",
      "\u001b[0;32m/anaconda3/lib/python3.7/site-packages/torch/nn/modules/container.py\u001b[0m in \u001b[0;36mforward\u001b[0;34m(self, input)\u001b[0m\n\u001b[1;32m     90\u001b[0m     \u001b[0;32mdef\u001b[0m \u001b[0mforward\u001b[0m\u001b[0;34m(\u001b[0m\u001b[0mself\u001b[0m\u001b[0;34m,\u001b[0m \u001b[0minput\u001b[0m\u001b[0;34m)\u001b[0m\u001b[0;34m:\u001b[0m\u001b[0;34m\u001b[0m\u001b[0;34m\u001b[0m\u001b[0m\n\u001b[1;32m     91\u001b[0m         \u001b[0;32mfor\u001b[0m \u001b[0mmodule\u001b[0m \u001b[0;32min\u001b[0m \u001b[0mself\u001b[0m\u001b[0;34m.\u001b[0m\u001b[0m_modules\u001b[0m\u001b[0;34m.\u001b[0m\u001b[0mvalues\u001b[0m\u001b[0;34m(\u001b[0m\u001b[0;34m)\u001b[0m\u001b[0;34m:\u001b[0m\u001b[0;34m\u001b[0m\u001b[0;34m\u001b[0m\u001b[0m\n\u001b[0;32m---> 92\u001b[0;31m             \u001b[0minput\u001b[0m \u001b[0;34m=\u001b[0m \u001b[0mmodule\u001b[0m\u001b[0;34m(\u001b[0m\u001b[0minput\u001b[0m\u001b[0;34m)\u001b[0m\u001b[0;34m\u001b[0m\u001b[0;34m\u001b[0m\u001b[0m\n\u001b[0m\u001b[1;32m     93\u001b[0m         \u001b[0;32mreturn\u001b[0m \u001b[0minput\u001b[0m\u001b[0;34m\u001b[0m\u001b[0;34m\u001b[0m\u001b[0m\n\u001b[1;32m     94\u001b[0m \u001b[0;34m\u001b[0m\u001b[0m\n",
      "\u001b[0;32m/anaconda3/lib/python3.7/site-packages/torch/nn/modules/module.py\u001b[0m in \u001b[0;36m__call__\u001b[0;34m(self, *input, **kwargs)\u001b[0m\n\u001b[1;32m    539\u001b[0m             \u001b[0mresult\u001b[0m \u001b[0;34m=\u001b[0m \u001b[0mself\u001b[0m\u001b[0;34m.\u001b[0m\u001b[0m_slow_forward\u001b[0m\u001b[0;34m(\u001b[0m\u001b[0;34m*\u001b[0m\u001b[0minput\u001b[0m\u001b[0;34m,\u001b[0m \u001b[0;34m**\u001b[0m\u001b[0mkwargs\u001b[0m\u001b[0;34m)\u001b[0m\u001b[0;34m\u001b[0m\u001b[0;34m\u001b[0m\u001b[0m\n\u001b[1;32m    540\u001b[0m         \u001b[0;32melse\u001b[0m\u001b[0;34m:\u001b[0m\u001b[0;34m\u001b[0m\u001b[0;34m\u001b[0m\u001b[0m\n\u001b[0;32m--> 541\u001b[0;31m             \u001b[0mresult\u001b[0m \u001b[0;34m=\u001b[0m \u001b[0mself\u001b[0m\u001b[0;34m.\u001b[0m\u001b[0mforward\u001b[0m\u001b[0;34m(\u001b[0m\u001b[0;34m*\u001b[0m\u001b[0minput\u001b[0m\u001b[0;34m,\u001b[0m \u001b[0;34m**\u001b[0m\u001b[0mkwargs\u001b[0m\u001b[0;34m)\u001b[0m\u001b[0;34m\u001b[0m\u001b[0;34m\u001b[0m\u001b[0m\n\u001b[0m\u001b[1;32m    542\u001b[0m         \u001b[0;32mfor\u001b[0m \u001b[0mhook\u001b[0m \u001b[0;32min\u001b[0m \u001b[0mself\u001b[0m\u001b[0;34m.\u001b[0m\u001b[0m_forward_hooks\u001b[0m\u001b[0;34m.\u001b[0m\u001b[0mvalues\u001b[0m\u001b[0;34m(\u001b[0m\u001b[0;34m)\u001b[0m\u001b[0;34m:\u001b[0m\u001b[0;34m\u001b[0m\u001b[0;34m\u001b[0m\u001b[0m\n\u001b[1;32m    543\u001b[0m             \u001b[0mhook_result\u001b[0m \u001b[0;34m=\u001b[0m \u001b[0mhook\u001b[0m\u001b[0;34m(\u001b[0m\u001b[0mself\u001b[0m\u001b[0;34m,\u001b[0m \u001b[0minput\u001b[0m\u001b[0;34m,\u001b[0m \u001b[0mresult\u001b[0m\u001b[0;34m)\u001b[0m\u001b[0;34m\u001b[0m\u001b[0;34m\u001b[0m\u001b[0m\n",
      "\u001b[0;32m/anaconda3/lib/python3.7/site-packages/torch/nn/modules/linear.py\u001b[0m in \u001b[0;36mforward\u001b[0;34m(self, input)\u001b[0m\n\u001b[1;32m     85\u001b[0m \u001b[0;34m\u001b[0m\u001b[0m\n\u001b[1;32m     86\u001b[0m     \u001b[0;32mdef\u001b[0m \u001b[0mforward\u001b[0m\u001b[0;34m(\u001b[0m\u001b[0mself\u001b[0m\u001b[0;34m,\u001b[0m \u001b[0minput\u001b[0m\u001b[0;34m)\u001b[0m\u001b[0;34m:\u001b[0m\u001b[0;34m\u001b[0m\u001b[0;34m\u001b[0m\u001b[0m\n\u001b[0;32m---> 87\u001b[0;31m         \u001b[0;32mreturn\u001b[0m \u001b[0mF\u001b[0m\u001b[0;34m.\u001b[0m\u001b[0mlinear\u001b[0m\u001b[0;34m(\u001b[0m\u001b[0minput\u001b[0m\u001b[0;34m,\u001b[0m \u001b[0mself\u001b[0m\u001b[0;34m.\u001b[0m\u001b[0mweight\u001b[0m\u001b[0;34m,\u001b[0m \u001b[0mself\u001b[0m\u001b[0;34m.\u001b[0m\u001b[0mbias\u001b[0m\u001b[0;34m)\u001b[0m\u001b[0;34m\u001b[0m\u001b[0;34m\u001b[0m\u001b[0m\n\u001b[0m\u001b[1;32m     88\u001b[0m \u001b[0;34m\u001b[0m\u001b[0m\n\u001b[1;32m     89\u001b[0m     \u001b[0;32mdef\u001b[0m \u001b[0mextra_repr\u001b[0m\u001b[0;34m(\u001b[0m\u001b[0mself\u001b[0m\u001b[0;34m)\u001b[0m\u001b[0;34m:\u001b[0m\u001b[0;34m\u001b[0m\u001b[0;34m\u001b[0m\u001b[0m\n",
      "\u001b[0;32m/anaconda3/lib/python3.7/site-packages/torch/nn/functional.py\u001b[0m in \u001b[0;36mlinear\u001b[0;34m(input, weight, bias)\u001b[0m\n\u001b[1;32m   1368\u001b[0m     \u001b[0;32mif\u001b[0m \u001b[0minput\u001b[0m\u001b[0;34m.\u001b[0m\u001b[0mdim\u001b[0m\u001b[0;34m(\u001b[0m\u001b[0;34m)\u001b[0m \u001b[0;34m==\u001b[0m \u001b[0;36m2\u001b[0m \u001b[0;32mand\u001b[0m \u001b[0mbias\u001b[0m \u001b[0;32mis\u001b[0m \u001b[0;32mnot\u001b[0m \u001b[0;32mNone\u001b[0m\u001b[0;34m:\u001b[0m\u001b[0;34m\u001b[0m\u001b[0;34m\u001b[0m\u001b[0m\n\u001b[1;32m   1369\u001b[0m         \u001b[0;31m# fused op is marginally faster\u001b[0m\u001b[0;34m\u001b[0m\u001b[0;34m\u001b[0m\u001b[0;34m\u001b[0m\u001b[0m\n\u001b[0;32m-> 1370\u001b[0;31m         \u001b[0mret\u001b[0m \u001b[0;34m=\u001b[0m \u001b[0mtorch\u001b[0m\u001b[0;34m.\u001b[0m\u001b[0maddmm\u001b[0m\u001b[0;34m(\u001b[0m\u001b[0mbias\u001b[0m\u001b[0;34m,\u001b[0m \u001b[0minput\u001b[0m\u001b[0;34m,\u001b[0m \u001b[0mweight\u001b[0m\u001b[0;34m.\u001b[0m\u001b[0mt\u001b[0m\u001b[0;34m(\u001b[0m\u001b[0;34m)\u001b[0m\u001b[0;34m)\u001b[0m\u001b[0;34m\u001b[0m\u001b[0;34m\u001b[0m\u001b[0m\n\u001b[0m\u001b[1;32m   1371\u001b[0m     \u001b[0;32melse\u001b[0m\u001b[0;34m:\u001b[0m\u001b[0;34m\u001b[0m\u001b[0;34m\u001b[0m\u001b[0m\n\u001b[1;32m   1372\u001b[0m         \u001b[0moutput\u001b[0m \u001b[0;34m=\u001b[0m \u001b[0minput\u001b[0m\u001b[0;34m.\u001b[0m\u001b[0mmatmul\u001b[0m\u001b[0;34m(\u001b[0m\u001b[0mweight\u001b[0m\u001b[0;34m.\u001b[0m\u001b[0mt\u001b[0m\u001b[0;34m(\u001b[0m\u001b[0;34m)\u001b[0m\u001b[0;34m)\u001b[0m\u001b[0;34m\u001b[0m\u001b[0;34m\u001b[0m\u001b[0m\n",
      "\u001b[0;31mKeyboardInterrupt\u001b[0m: "
     ]
    }
   ],
   "source": [
    "# 5 \n",
    "\n",
    "# using adam\n",
    "#initialize model\n",
    "convnet=ConvNet()\n",
    "#Loss and optimizer for convnet\n",
    "Loss=nn.CrossEntropyLoss()\n",
    "optimizer=optim.Adam(convnet.parameters(),lr=0.001)\n",
    "\n",
    "#train the model\n",
    "Epochs_c=10\n",
    "loss_sum=[]\n",
    "accuracy_c=[]\n",
    "for epoch in range(Epochs_c):\n",
    "    correct=0\n",
    "    total=0\n",
    "    loss_s=0\n",
    "    for data in trainset:  \n",
    "        X,y=data\n",
    "        #forward pass\n",
    "        output=convnet(X)\n",
    "        loss_c=Loss(output,y)\n",
    "        #backward optimize\n",
    "        optimizer.zero_grad()\n",
    "        loss_c.backward()\n",
    "        optimizer.step()\n",
    "        # caculate accuracy\n",
    "        loss_s+=loss_c\n",
    "        for idx,i in enumerate(output):\n",
    "            if torch.argmax(i)==y[idx]:\n",
    "                correct+=1\n",
    "            total +=1\n",
    "    accu_c=round(correct/total,3)\n",
    "    accuracy_c.append(accu_c)\n",
    "    loss_sum.append(loss_s)\n",
    "    print(loss_sum)\n",
    "    print(accu_c)\n",
    "plt(loss_sum,accuracy_c,'mnist-cnn-adam')\n",
    "\n"
   ]
  },
  {
   "cell_type": "code",
   "execution_count": 107,
   "metadata": {},
   "outputs": [
    {
     "name": "stdout",
     "output_type": "stream",
     "text": [
      "[tensor(3034.8394, grad_fn=<AddBackward0>)]\n",
      "0.85\n",
      "[tensor(3034.8394, grad_fn=<AddBackward0>), tensor(2813.2537, grad_fn=<AddBackward0>)]\n",
      "0.964\n",
      "[tensor(3034.8394, grad_fn=<AddBackward0>), tensor(2813.2537, grad_fn=<AddBackward0>), tensor(2788.5308, grad_fn=<AddBackward0>)]\n",
      "0.976\n",
      "[tensor(3034.8394, grad_fn=<AddBackward0>), tensor(2813.2537, grad_fn=<AddBackward0>), tensor(2788.5308, grad_fn=<AddBackward0>), tensor(2778.1465, grad_fn=<AddBackward0>)]\n",
      "0.981\n",
      "[tensor(3034.8394, grad_fn=<AddBackward0>), tensor(2813.2537, grad_fn=<AddBackward0>), tensor(2788.5308, grad_fn=<AddBackward0>), tensor(2778.1465, grad_fn=<AddBackward0>), tensor(2771.6587, grad_fn=<AddBackward0>)]\n",
      "0.984\n",
      "[tensor(3034.8394, grad_fn=<AddBackward0>), tensor(2813.2537, grad_fn=<AddBackward0>), tensor(2788.5308, grad_fn=<AddBackward0>), tensor(2778.1465, grad_fn=<AddBackward0>), tensor(2771.6587, grad_fn=<AddBackward0>), tensor(2765.4565, grad_fn=<AddBackward0>)]\n",
      "0.988\n",
      "[tensor(3034.8394, grad_fn=<AddBackward0>), tensor(2813.2537, grad_fn=<AddBackward0>), tensor(2788.5308, grad_fn=<AddBackward0>), tensor(2778.1465, grad_fn=<AddBackward0>), tensor(2771.6587, grad_fn=<AddBackward0>), tensor(2765.4565, grad_fn=<AddBackward0>), tensor(2762.6838, grad_fn=<AddBackward0>)]\n",
      "0.989\n",
      "[tensor(3034.8394, grad_fn=<AddBackward0>), tensor(2813.2537, grad_fn=<AddBackward0>), tensor(2788.5308, grad_fn=<AddBackward0>), tensor(2778.1465, grad_fn=<AddBackward0>), tensor(2771.6587, grad_fn=<AddBackward0>), tensor(2765.4565, grad_fn=<AddBackward0>), tensor(2762.6838, grad_fn=<AddBackward0>), tensor(2760.0701, grad_fn=<AddBackward0>)]\n",
      "0.99\n",
      "[tensor(3034.8394, grad_fn=<AddBackward0>), tensor(2813.2537, grad_fn=<AddBackward0>), tensor(2788.5308, grad_fn=<AddBackward0>), tensor(2778.1465, grad_fn=<AddBackward0>), tensor(2771.6587, grad_fn=<AddBackward0>), tensor(2765.4565, grad_fn=<AddBackward0>), tensor(2762.6838, grad_fn=<AddBackward0>), tensor(2760.0701, grad_fn=<AddBackward0>), tensor(2758.0178, grad_fn=<AddBackward0>)]\n",
      "0.991\n",
      "[tensor(3034.8394, grad_fn=<AddBackward0>), tensor(2813.2537, grad_fn=<AddBackward0>), tensor(2788.5308, grad_fn=<AddBackward0>), tensor(2778.1465, grad_fn=<AddBackward0>), tensor(2771.6587, grad_fn=<AddBackward0>), tensor(2765.4565, grad_fn=<AddBackward0>), tensor(2762.6838, grad_fn=<AddBackward0>), tensor(2760.0701, grad_fn=<AddBackward0>), tensor(2758.0178, grad_fn=<AddBackward0>), tensor(2756.8528, grad_fn=<AddBackward0>)]\n",
      "0.991\n"
     ]
    },
    {
     "ename": "TypeError",
     "evalue": "'module' object is not callable",
     "output_type": "error",
     "traceback": [
      "\u001b[0;31m---------------------------------------------------------------------------\u001b[0m",
      "\u001b[0;31mTypeError\u001b[0m                                 Traceback (most recent call last)",
      "\u001b[0;32m<ipython-input-107-f6e0bd996c50>\u001b[0m in \u001b[0;36m<module>\u001b[0;34m\u001b[0m\n\u001b[1;32m     34\u001b[0m     \u001b[0mprint\u001b[0m\u001b[0;34m(\u001b[0m\u001b[0mloss_sum\u001b[0m\u001b[0;34m)\u001b[0m\u001b[0;34m\u001b[0m\u001b[0;34m\u001b[0m\u001b[0m\n\u001b[1;32m     35\u001b[0m     \u001b[0mprint\u001b[0m\u001b[0;34m(\u001b[0m\u001b[0maccu_c\u001b[0m\u001b[0;34m)\u001b[0m\u001b[0;34m\u001b[0m\u001b[0;34m\u001b[0m\u001b[0m\n\u001b[0;32m---> 36\u001b[0;31m \u001b[0mplt\u001b[0m\u001b[0;34m(\u001b[0m\u001b[0mloss_sum\u001b[0m\u001b[0;34m,\u001b[0m\u001b[0maccuracy_c\u001b[0m\u001b[0;34m,\u001b[0m\u001b[0;34m'mnist-cnn-adam'\u001b[0m\u001b[0;34m)\u001b[0m\u001b[0;34m\u001b[0m\u001b[0;34m\u001b[0m\u001b[0m\n\u001b[0m",
      "\u001b[0;31mTypeError\u001b[0m: 'module' object is not callable"
     ]
    }
   ],
   "source": [
    "# using adagrad\n",
    "#initialize model\n",
    "convnet=ConvNet()\n",
    "#Loss and optimizer for convnet\n",
    "Loss=nn.CrossEntropyLoss()\n",
    "optimizer=optim.Adam(convnet.parameters(),lr=0.001)\n",
    "\n",
    "#train the model\n",
    "Epochs_c=10\n",
    "loss_sum=[]\n",
    "accuracy_c=[]\n",
    "for epoch in range(Epochs_c):\n",
    "    correct=0\n",
    "    total=0\n",
    "    loss_s=0\n",
    "    for data in trainset:  \n",
    "        X,y=data\n",
    "        #forward pass\n",
    "        output=convnet(X)\n",
    "        loss_c=Loss(output,y)\n",
    "        #backward optimize\n",
    "        optimizer.zero_grad()\n",
    "        loss_c.backward()\n",
    "        optimizer.step()\n",
    "        # caculate accuracy\n",
    "        loss_s+=loss_c\n",
    "        for idx,i in enumerate(output):\n",
    "            if torch.argmax(i)==y[idx]:\n",
    "                correct+=1\n",
    "            total +=1\n",
    "    accu_c=round(correct/total,3)\n",
    "    accuracy_c.append(accu_c)\n",
    "    loss_sum.append(loss_s)\n",
    "    print(loss_sum)\n",
    "    print(accu_c)\n",
    "plt(loss_sum,accuracy_c,'mnist-cnn-adam')\n"
   ]
  },
  {
   "cell_type": "code",
   "execution_count": 26,
   "metadata": {},
   "outputs": [
    {
     "data": {
      "image/png": "[encoded data removed]",
      "text/plain": [
       "<Figure size 432x288 with 1 Axes>"
      ]
     },
     "metadata": {
      "needs_background": "light"
     },
     "output_type": "display_data"
    }
   ],
   "source": [
    "# plot\n",
    "plt.imshow(data[0][0].view(28,28))\n",
    "plt.show()"
   ]
  },
  {
   "cell_type": "code",
   "execution_count": 27,
   "metadata": {},
   "outputs": [],
   "source": [
    "import os"
   ]
  },
  {
   "cell_type": "code",
   "execution_count": 33,
   "metadata": {},
   "outputs": [
    {
     "data": {
      "text/plain": [
       "'/Users/yangxiaomin/Documents/courses/csci 5525'"
      ]
     },
     "execution_count": 33,
     "metadata": {},
     "output_type": "execute_result"
    }
   ],
   "source": [
    "os.getcwd()"
   ]
  },
  {
   "cell_type": "code",
   "execution_count": null,
   "metadata": {},
   "outputs": [],
   "source": []
  }
 ],
 "metadata": {
  "kernelspec": {
   "display_name": "Python 3",
   "language": "python",
   "name": "python3"
  },
  "language_info": {
   "codemirror_mode": {
    "name": "ipython",
    "version": 3
   },
   "file_extension": ".py",
   "mimetype": "text/x-python",
   "name": "python",
   "nbconvert_exporter": "python",
   "pygments_lexer": "ipython3",
   "version": "3.7.1"
  }
 },
 "nbformat": 4,
 "nbformat_minor": 2
}
